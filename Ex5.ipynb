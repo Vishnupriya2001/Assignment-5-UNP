{
  "nbformat": 4,
  "nbformat_minor": 0,
  "metadata": {
    "kernelspec": {
      "display_name": "Python 3",
      "language": "python",
      "name": "python3"
    },
    "language_info": {
      "codemirror_mode": {
        "name": "ipython",
        "version": 3
      },
      "file_extension": ".py",
      "mimetype": "text/x-python",
      "name": "python",
      "nbconvert_exporter": "python",
      "pygments_lexer": "ipython3",
      "version": "3.7.3"
    },
    "learntools_metadata": {
      "lesson_index": 4,
      "type": "exercise"
    },
    "colab": {
      "name": "Ex5.ipynb",
      "provenance": [],
      "include_colab_link": true
    }
  },
  "cells": [
    {
      "cell_type": "markdown",
      "metadata": {
        "id": "view-in-github",
        "colab_type": "text"
      },
      "source": [
        "<a href=\"https://colab.research.google.com/github/Vishnupriya2001/Assignment-5-UNP/blob/main/Ex5.ipynb\" target=\"_parent\"><img src=\"https://colab.research.google.com/assets/colab-badge.svg\" alt=\"Open In Colab\"/></a>"
      ]
    },
    {
      "cell_type": "markdown",
      "metadata": {
        "id": "mrJCVdN8TMkm"
      },
      "source": [
        "With all you've learned, you can start writing much more interesting programs. See if you can solve the problems below.\n",
        "\n",
        "As always, run the setup code below before working on the questions."
      ]
    },
    {
      "cell_type": "code",
      "metadata": {
        "colab": {
          "base_uri": "https://localhost:8080/"
        },
        "id": "c-e_eR2CTMku",
        "outputId": "a8d34235-9e7a-4290-8522-d965da7f91cd"
      },
      "source": [
        "!pip install git+https://github.com/ML-Challenge/learntools.git\n",
        "from learntools.core import binder; binder.bind(globals())\n",
        "from learntools.python.ex1 import *\n",
        "print(\"setup complete!\")\n",
        "# SETUP - Refer to Ex 1\n",
        "from learntools.core import binder; binder.bind(globals())\n",
        "from learntools.python.ex5 import *\n",
        "print('Setup complete.')"
      ],
      "execution_count": 1,
      "outputs": [
        {
          "output_type": "stream",
          "name": "stdout",
          "text": [
            "Collecting git+https://github.com/ML-Challenge/learntools.git\n",
            "  Cloning https://github.com/ML-Challenge/learntools.git to /tmp/pip-req-build-_mz89gtf\n",
            "  Running command git clone -q https://github.com/ML-Challenge/learntools.git /tmp/pip-req-build-_mz89gtf\n",
            "Building wheels for collected packages: learntools\n",
            "  Building wheel for learntools (setup.py) ... \u001b[?25l\u001b[?25hdone\n",
            "  Created wheel for learntools: filename=learntools-0.3.4-py3-none-any.whl size=207310 sha256=37f722b7a04e34f3633a4be680415c64082c854cb6b4e431b4066245d3a40e38\n",
            "  Stored in directory: /tmp/pip-ephem-wheel-cache-sowrhw7j/wheels/5e/42/53/aa3198486cfc460e19152f9f799b8d0f549cb88f492acb6033\n",
            "Successfully built learntools\n",
            "Installing collected packages: learntools\n",
            "Successfully installed learntools-0.3.4\n"
          ]
        },
        {
          "output_type": "stream",
          "name": "stderr",
          "text": [
            "WARNING:root:Ignoring repeated attempt to bind to globals\n"
          ]
        },
        {
          "output_type": "stream",
          "name": "stdout",
          "text": [
            "setup complete!\n",
            "Setup complete.\n"
          ]
        }
      ]
    },
    {
      "cell_type": "markdown",
      "metadata": {
        "id": "61dRwfPfTMk2"
      },
      "source": [
        "# 1.\n",
        "\n",
        "Have you ever felt debugging involved a bit of luck? The following program has a bug. Try to identify the bug and fix it."
      ]
    },
    {
      "cell_type": "code",
      "metadata": {
        "id": "Yri9io9hTMk3"
      },
      "source": [
        "def has_lucky_number(nums):\n",
        "    \"\"\"Return whether the given list of numbers is lucky. A lucky list contains\n",
        "    at least one number divisible by 7.\n",
        "    \"\"\"\n",
        "    for num in nums:\n",
        "        if num % 7 == 0:\n",
        "            return True\n",
        "        else:\n",
        "            return False"
      ],
      "execution_count": 2,
      "outputs": []
    },
    {
      "cell_type": "markdown",
      "metadata": {
        "id": "73mZuXdmTMk4"
      },
      "source": [
        "Try to identify the bug and fix it in the cell below:"
      ]
    },
    {
      "cell_type": "code",
      "metadata": {
        "colab": {
          "base_uri": "https://localhost:8080/",
          "height": 242
        },
        "id": "VD6b03mdTMk5",
        "outputId": "aa61caba-7299-4b02-c8be-9f640cde2614"
      },
      "source": [
        "def has_lucky_number(nums):\n",
        "    \"\"\"Return whether the given list of numbers is lucky. A lucky list contains\n",
        "    at least one number divisible by 7.\n",
        "    \"\"\"\n",
        "    for num in nums:\n",
        "        if num % 7 == 0:\n",
        "            return True\n",
        "        else:\n",
        "            return False\n",
        "            \n",
        "\n",
        "\n",
        "def has_lucky_number(nums):\n",
        "    return any([num % 7 == 0 for num in nums])\n",
        " \n",
        "# Check your answer\n",
        "q1.check()"
      ],
      "execution_count": 9,
      "outputs": [
        {
          "output_type": "display_data",
          "data": {
            "application/javascript": [
              "parent.postMessage({\"jupyterEvent\": \"custom.exercise_interaction\", \"data\": {\"outcomeType\": 1, \"valueTowardsCompletion\": 0.25, \"interactionType\": 1, \"questionType\": 2, \"questionId\": \"1_EarlyExitDebugging\", \"learnToolsVersion\": \"0.3.4\", \"failureMessage\": \"\", \"exceptionClass\": \"\", \"trace\": \"\"}}, \"*\")"
            ],
            "text/plain": [
              "<IPython.core.display.Javascript object>"
            ]
          },
          "metadata": {}
        },
        {
          "output_type": "display_data",
          "data": {
            "text/markdown": "<span style=\"color:#33cc33\">Correct:</span> \n\nRemember that `return` causes a function to exit immediately. So our original implementation always ran for just one iteration. We can only return `False` if we've looked at every element of the list (and confirmed that none of them are lucky). Though we can return early if the answer is `True`:\n\n```python\ndef has_lucky_number(nums):\n    for num in nums:\n        if num % 7 == 0:\n            return True\n    # We've exhausted the list without finding a lucky number\n    return False\n```\n\nHere's a one-line version using a list comprehension with Python's `any` function (you can read about what it does by calling `help(any)`):\n\n```python\ndef has_lucky_number(nums):\n    return any([num % 7 == 0 for num in nums])\n```\n",
            "text/plain": [
              "Correct: \n",
              "\n",
              "Remember that `return` causes a function to exit immediately. So our original implementation always ran for just one iteration. We can only return `False` if we've looked at every element of the list (and confirmed that none of them are lucky). Though we can return early if the answer is `True`:\n",
              "\n",
              "```python\n",
              "def has_lucky_number(nums):\n",
              "    for num in nums:\n",
              "        if num % 7 == 0:\n",
              "            return True\n",
              "    # We've exhausted the list without finding a lucky number\n",
              "    return False\n",
              "```\n",
              "\n",
              "Here's a one-line version using a list comprehension with Python's `any` function (you can read about what it does by calling `help(any)`):\n",
              "\n",
              "```python\n",
              "def has_lucky_number(nums):\n",
              "    return any([num % 7 == 0 for num in nums])\n",
              "```"
            ]
          },
          "metadata": {}
        }
      ]
    },
    {
      "cell_type": "code",
      "metadata": {
        "id": "Uk-2Sk_LTMk6"
      },
      "source": [
        "#q1.hint()\n",
        "#q1.solution()"
      ],
      "execution_count": 10,
      "outputs": []
    },
    {
      "cell_type": "markdown",
      "metadata": {
        "id": "F7IrKRmiTMk7"
      },
      "source": [
        "# 2.\n",
        "Look at the Python expression below. What do you think we'll get when we run it? When you've made your prediction, uncomment the code and run the cell to see if you were right."
      ]
    },
    {
      "cell_type": "code",
      "metadata": {
        "id": "xiKf4tdFTMk8"
      },
      "source": [
        "#[1, 2, 3, 4] > 2"
      ],
      "execution_count": null,
      "outputs": []
    },
    {
      "cell_type": "markdown",
      "metadata": {
        "id": "M5cEWW1OTMk9"
      },
      "source": [
        "R and Python have some libraries (like numpy and pandas) compare each element of the list to 2 (i.e. do an 'element-wise' comparison) and give us a list of booleans like `[False, False, True, True]`. \n",
        "\n",
        "Implement a function that reproduces this behaviour, returning a list of booleans corresponding to whether the corresponding element is greater than n."
      ]
    },
    {
      "cell_type": "code",
      "metadata": {
        "colab": {
          "base_uri": "https://localhost:8080/",
          "height": 210
        },
        "id": "3FcPVAwHTMk-",
        "outputId": "7284b23e-bf59-445a-a731-5decbc0e47e8"
      },
      "source": [
        "def elementwise_greater_than(L, thresh):\n",
        "    \"\"\"Return a list with the same length as L, where the value at index i is \n",
        "    True if L[i] is greater than thresh, and False otherwise.\n",
        "    \n",
        "    >>> elementwise_greater_than([1, 2, 3, 4], 2)\n",
        "    [False, False, True, True]\n",
        "    \"\"\"\n",
        "    res=[]\n",
        "    for ele in L:\n",
        "        res.append(ele>thresh)\n",
        "    return res\n",
        "    pass\n",
        "\n",
        "# Check your answer\n",
        "q2.check()"
      ],
      "execution_count": 11,
      "outputs": [
        {
          "output_type": "display_data",
          "data": {
            "application/javascript": [
              "parent.postMessage({\"jupyterEvent\": \"custom.exercise_interaction\", \"data\": {\"outcomeType\": 1, \"valueTowardsCompletion\": 0.25, \"interactionType\": 1, \"questionType\": 2, \"questionId\": \"2_ElementWiseComparison\", \"learnToolsVersion\": \"0.3.4\", \"failureMessage\": \"\", \"exceptionClass\": \"\", \"trace\": \"\"}}, \"*\")"
            ],
            "text/plain": [
              "<IPython.core.display.Javascript object>"
            ]
          },
          "metadata": {}
        },
        {
          "output_type": "display_data",
          "data": {
            "text/markdown": "<span style=\"color:#33cc33\">Correct:</span> \n\nHere's one solution:\n```python\ndef elementwise_greater_than(L, thresh):\n    res = []\n    for ele in L:\n        res.append(ele > thresh)\n    return res\n```\n\nAnd here's the list comprehension version:\n```python\ndef elementwise_greater_than(L, thresh):\n    return [ele > thresh for ele in L]\n```\n",
            "text/plain": [
              "Correct: \n",
              "\n",
              "Here's one solution:\n",
              "```python\n",
              "def elementwise_greater_than(L, thresh):\n",
              "    res = []\n",
              "    for ele in L:\n",
              "        res.append(ele > thresh)\n",
              "    return res\n",
              "```\n",
              "\n",
              "And here's the list comprehension version:\n",
              "```python\n",
              "def elementwise_greater_than(L, thresh):\n",
              "    return [ele > thresh for ele in L]\n",
              "```"
            ]
          },
          "metadata": {}
        }
      ]
    },
    {
      "cell_type": "code",
      "metadata": {
        "id": "F9dnzpVfTMlA"
      },
      "source": [
        "#q2.solution()"
      ],
      "execution_count": null,
      "outputs": []
    },
    {
      "cell_type": "markdown",
      "metadata": {
        "id": "dPRglTlRTMlB"
      },
      "source": [
        "# 3.\n",
        "\n",
        "Complete the body of the function below according to its docstring."
      ]
    },
    {
      "cell_type": "code",
      "metadata": {
        "colab": {
          "base_uri": "https://localhost:8080/",
          "height": 242
        },
        "id": "lyYD8bQyTMlC",
        "outputId": "45c7ffbf-1a43-44b7-f625-5a9f84eb42ba"
      },
      "source": [
        "def menu_is_boring(meals):\n",
        "    \"\"\"Given a list of meals served over some period of time, return True if the\n",
        "    same meal has ever been served two days in a row, and False otherwise.\n",
        "    \"\"\"\n",
        "    for i in range(len(meals)-1):\n",
        "        if meals[i]==meals[i+1]:\n",
        "            return True\n",
        "    return False\n",
        "    pass\n",
        "\n",
        "# Check your answer\n",
        "q3.check()"
      ],
      "execution_count": 12,
      "outputs": [
        {
          "output_type": "display_data",
          "data": {
            "application/javascript": [
              "parent.postMessage({\"jupyterEvent\": \"custom.exercise_interaction\", \"data\": {\"outcomeType\": 1, \"valueTowardsCompletion\": 0.25, \"interactionType\": 1, \"questionType\": 2, \"questionId\": \"3_BoringMenu\", \"learnToolsVersion\": \"0.3.4\", \"failureMessage\": \"\", \"exceptionClass\": \"\", \"trace\": \"\"}}, \"*\")"
            ],
            "text/plain": [
              "<IPython.core.display.Javascript object>"
            ]
          },
          "metadata": {}
        },
        {
          "output_type": "display_data",
          "data": {
            "text/markdown": "<span style=\"color:#33cc33\">Correct:</span> \n\n\n\n```python\ndef menu_is_boring(meals):\n    # Iterate over all indices of the list, except the last one\n    for i in range(len(meals)-1):\n        if meals[i] == meals[i+1]:\n            return True\n    return False\n```\n\nThe key to our solution is the call to `range`. `range(len(meals))` would give us all the indices of `meals`. If we had used that range, the last iteration of the loop would be comparing the last element to the element after it, which is... `IndexError`! `range(len(meals)-1)` gives us all the indices except the index of the last element.\n\nBut don't we need to check if `meals` is empty? Turns out that `range(0) == range(-1)` - they're both empty. So if `meals` has length 0 or 1, we just won't do any iterations of our for loop.\n",
            "text/plain": [
              "Correct: \n",
              "\n",
              "\n",
              "\n",
              "```python\n",
              "def menu_is_boring(meals):\n",
              "    # Iterate over all indices of the list, except the last one\n",
              "    for i in range(len(meals)-1):\n",
              "        if meals[i] == meals[i+1]:\n",
              "            return True\n",
              "    return False\n",
              "```\n",
              "\n",
              "The key to our solution is the call to `range`. `range(len(meals))` would give us all the indices of `meals`. If we had used that range, the last iteration of the loop would be comparing the last element to the element after it, which is... `IndexError`! `range(len(meals)-1)` gives us all the indices except the index of the last element.\n",
              "\n",
              "But don't we need to check if `meals` is empty? Turns out that `range(0) == range(-1)` - they're both empty. So if `meals` has length 0 or 1, we just won't do any iterations of our for loop."
            ]
          },
          "metadata": {}
        }
      ]
    },
    {
      "cell_type": "code",
      "metadata": {
        "id": "1TIsPzkHTMlD"
      },
      "source": [
        "#q3.hint()\n",
        "#q3.solution()"
      ],
      "execution_count": null,
      "outputs": []
    },
    {
      "cell_type": "markdown",
      "metadata": {
        "id": "6oWw7oLjTMlE"
      },
      "source": [
        "# 4. <span title=\"A bit spicy\" style=\"color: darkgreen \">🌶️</span>\n",
        "\n",
        "Next to the Blackjack table, the Python Challenge Casino has a slot machine. You can get a result from the slot machine by calling `play_slot_machine()`. The number it returns is your winnings in dollars. Usually it returns 0.  But sometimes you'll get lucky and get a big payday. Try running it below:"
      ]
    },
    {
      "cell_type": "code",
      "metadata": {
        "id": "8uZz19SlTMlF",
        "outputId": "5cecbb64-fc58-43e8-9b35-e1c44359133c"
      },
      "source": [
        "play_slot_machine()"
      ],
      "execution_count": null,
      "outputs": [
        {
          "data": {
            "text/plain": [
              "0"
            ]
          },
          "execution_count": 10,
          "metadata": {},
          "output_type": "execute_result"
        }
      ]
    },
    {
      "cell_type": "markdown",
      "metadata": {
        "id": "j0F7B1OvTMlG"
      },
      "source": [
        "By the way, did we mention that each play costs $1? Don't worry, we'll send you the bill later.\n",
        "\n",
        "On average, how much money can you expect to gain (or lose) every time you play the machine?  The casino keeps it a secret, but you can estimate the average value of each pull using a technique called the **Monte Carlo method**. To estimate the average outcome, we simulate the scenario many times, and return the average result.\n",
        "\n",
        "Complete the following function to calculate the average value per play of the slot machine."
      ]
    },
    {
      "cell_type": "code",
      "metadata": {
        "colab": {
          "base_uri": "https://localhost:8080/"
        },
        "id": "bYU99mcoTMlI",
        "outputId": "85d2d082-0d6b-46c8-81f5-392e2528c21d"
      },
      "source": [
        "def estimate_average_slot_payout(n_runs):\n",
        "    \"\"\"Run the slot machine n_runs times and return the average net profit per run.\n",
        "    Example calls (note that return value is nondeterministic!):\n",
        "    >>> estimate_average_slot_payout(1)\n",
        "    -1\n",
        "    >>> estimate_average_slot_payout(1)\n",
        "    0.5\n",
        "    \"\"\"\n",
        "    payouts = [play_slot_machine()-1 for i in range(n_runs)]\n",
        "    avg_payout = sum(payouts) / n_runs\n",
        "    return avg_payout\n",
        "estimate_average_slot_payout(10000000)\n",
        "    \n",
        "    "
      ],
      "execution_count": 16,
      "outputs": [
        {
          "output_type": "execute_result",
          "data": {
            "text/plain": [
              "0.02808955"
            ]
          },
          "metadata": {},
          "execution_count": 16
        }
      ]
    },
    {
      "cell_type": "markdown",
      "metadata": {
        "id": "U3yGeUrITMlJ"
      },
      "source": [
        "When you think you know the expected value per spin, run the code cell below to view the solution and get credit for answering the question."
      ]
    },
    {
      "cell_type": "code",
      "metadata": {
        "id": "vpnLRLXGTMlJ",
        "outputId": "66c6eaea-d72c-4d54-f8ad-54fa16c861b3"
      },
      "source": [
        "# Check your answer (Run this code cell to receive credit!)\n",
        "q4.solution()"
      ],
      "execution_count": null,
      "outputs": [
        {
          "data": {
            "application/javascript": [
              "parent.postMessage({\"jupyterEvent\": \"custom.exercise_interaction\", \"data\": {\"interactionType\": 3, \"questionType\": 4, \"questionId\": \"4_ExpectedSlotsPayout\", \"learnToolsVersion\": \"0.3.4\", \"valueTowardsCompletion\": 0.0, \"failureMessage\": \"\", \"exceptionClass\": \"\", \"trace\": \"\", \"outcomeType\": 4}}, \"*\")"
            ],
            "text/plain": [
              "<IPython.core.display.Javascript object>"
            ]
          },
          "metadata": {},
          "output_type": "display_data"
        },
        {
          "data": {
            "text/markdown": [
              "<span style=\"color:#33cc99\">Solution:</span> \n",
              "    \n",
              "The exact expected value of one pull of the slot machine is 0.025 - i.e. a little more than 2 cents.  See?  Not every game in the Python Challenge Casino is rigged against the player!\n",
              "\n",
              "In order to get this answer, you'll need to implement the `estimate_average_slot_payout(n_runs)` function to simulate pulling the slot machine `n_runs` times.  It should return the payout averaged over those `n_runs`.\n",
              "\n",
              "Then, once the function is defined, in order to estimate the average slot payout, we need only call the function.\n",
              "\n",
              "Because of the high variance of the outcome (there are some very rare high payout results that significantly affect the average) you might need to run your function with a very high value of `n_runs` to get a stable answer close to the true expectation.  For instance, you might use a value for `n_runs` of 1000000.\n",
              "\n",
              "Here's an example for how the function could look:\n",
              "```python\n",
              "def estimate_average_slot_payout(n_runs):\n",
              "    # Play slot machine n_runs times, calculate payout of each\n",
              "    payouts = [play_slot_machine()-1 for i in range(n_runs)]\n",
              "    # Calculate the average value\n",
              "    avg_payout = sum(payouts) / n_runs\n",
              "    return avg_payout\n",
              "    \n",
              "estimate_average_slot_payout(10000000)\n",
              "\n",
              "```\n",
              "\n",
              "This should return an answer close to 0.025!\n",
              "            \n"
            ],
            "text/plain": [
              "Solution: \n",
              "    \n",
              "The exact expected value of one pull of the slot machine is 0.025 - i.e. a little more than 2 cents.  See?  Not every game in the Python Challenge Casino is rigged against the player!\n",
              "\n",
              "In order to get this answer, you'll need to implement the `estimate_average_slot_payout(n_runs)` function to simulate pulling the slot machine `n_runs` times.  It should return the payout averaged over those `n_runs`.\n",
              "\n",
              "Then, once the function is defined, in order to estimate the average slot payout, we need only call the function.\n",
              "\n",
              "Because of the high variance of the outcome (there are some very rare high payout results that significantly affect the average) you might need to run your function with a very high value of `n_runs` to get a stable answer close to the true expectation.  For instance, you might use a value for `n_runs` of 1000000.\n",
              "\n",
              "Here's an example for how the function could look:\n",
              "```python\n",
              "def estimate_average_slot_payout(n_runs):\n",
              "    # Play slot machine n_runs times, calculate payout of each\n",
              "    payouts = [play_slot_machine()-1 for i in range(n_runs)]\n",
              "    # Calculate the average value\n",
              "    avg_payout = sum(payouts) / n_runs\n",
              "    return avg_payout\n",
              "    \n",
              "estimate_average_slot_payout(10000000)\n",
              "\n",
              "```\n",
              "\n",
              "This should return an answer close to 0.025!\n",
              "            "
            ]
          },
          "metadata": {},
          "output_type": "display_data"
        }
      ]
    }
  ]
}